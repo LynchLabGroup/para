{
 "metadata": {
  "name": "Lynch Lab - Feb, 2014 to Jul, 2014"
 },
 "nbformat": 3,
 "nbformat_minor": 0,
 "worksheets": [
  {
   "cells": [
    {
     "cell_type": "markdown",
     "metadata": {},
     "source": [
      "## Lynch Lab ##"
     ]
    },
    {
     "cell_type": "markdown",
     "metadata": {},
     "source": [
      "## 24 Feb 2014 ##\n",
      "Definition of research project, identification of Transcription Factors Binding Sites (TFBS or motifs) in several *Paramecium* species -> Are they conserved? Which of them are greatly conserved or not? Relation with duplicated genes?\n",
      "\n",
      "Developping a easy usable pipeline to use on several species:\n",
      "\n",
      "1. Build homologous/orthologous **gene families** in several species\n",
      "2. **Detect** in each gene the start codon and **extract** *n* upstream nucleotides\n",
      "3. Use a **motif finding** program in those upstream nucleotides to **identify motifs**\n",
      "4. **Parse** the output file of the program\n",
      "5. **Cross-link** the data with duplication status, expression level, GO terms?\n",
      "\n",
      "Importance of weighting phylogenetic relationship among TFBS -> it's not the same thing if close species share same motif than distant species\n",
      "**weight conservation**\n",
      "\n",
      "Maybe should I look into *Drosophila* litterature -> many studies on TFBS"
     ]
    },
    {
     "cell_type": "markdown",
     "metadata": {},
     "source": [
      "Programs identifed: MEME-suite, PhyME, rMonkey, MotifSample, ConSite, MotifMogul, MotifCatcher, TargetOrtho"
     ]
    },
    {
     "cell_type": "markdown",
     "metadata": {},
     "source": [
      "## 25 Feb 2014 ##\n",
      "\n",
      "+ **LASAGNA-search** seem good but no phylogeny took into account\n",
      "\n",
      "+ **FootPrinter** take a **phylogenetic tree as input** + sequences and gives motifs with parsimony scores\n",
      "\n",
      "<table>\n",
      "    <tr>\n",
      "        <th> Name </th>\n",
      "        <th> Phylogeny </th>\n",
      "        <th> Data </th>\n",
      "        <th> Output </th>\n",
      "        <th> Comments </th>\n",
      "    </tr>\n",
      "    <tr>\n",
      "        <td> LASAGNA-search </td>\n",
      "        <td> No </td>\n",
      "        <td> Seq FASTA + Promoter Model (or PSWM) </td>\n",
      "        <td> HTML file </td>\n",
      "        <td> p-value, e-value, score, strand to identify motifs </td>\n",
      "    </tr>\n",
      "    <tr>\n",
      "        <td> FootPrinter </td>\n",
      "        <td> Yes </td>\n",
      "        <td> Seq FASTA </td>\n",
      "        <td> text-file </td>\n",
      "        <td> use parsimony scores to evaluate motifs </td>\n",
      "    </tr>\n",
      "    <tr>\n",
      "        <td> PhyME </td>\n",
      "        <td> Yes </td>\n",
      "        <td> Orth. Promoters + Phylogenetic tree </td>\n",
      "        <td> text-file </td>\n",
      "        <td> try to balance over-representation and conservation of the motif </td>\n",
      "    </tr>\n",
      "    <tr>\n",
      "        <td> MEME-suite </td>\n",
      "        <td> No </td>\n",
      "        <td> Seqs FASTA </td>\n",
      "        <td> HTML </td>\n",
      "        <td> many programs in the suite, link with GO terms, Gapped-motif research </td>\n",
      "    </tr>\n",
      "    <tr>\n",
      "        <td> TFBSGroup </td>\n",
      "        <td> No </td>\n",
      "        <td> Seqs FASTA </td>\n",
      "        <td> HTML </td>\n",
      "        <td> search for long and weak motifs </td>\n",
      "    </tr>\n",
      "    <tr>\n",
      "        <td> iTriplet </td>\n",
      "        <td> No </td>\n",
      "        <td> Seqs FASTA </td>\n",
      "        <td> text-file </td>\n",
      "        <td> command-line tool, easy to integrate, identify specific motifs </td>\n",
      "    </tr>\n",
      "    <tr>\n",
      "        <td> PARSEC </td>\n",
      "        <td> No </td>\n",
      "        <td> Seqs FASTA </td>\n",
      "        <td> text-file </td>\n",
      "        <td> only model organisms </td>\n",
      "    </tr>\n",
      "    <tr>\n",
      "        <td> BoBro2.0 </td>\n",
      "        <td> No </td>\n",
      "        <td> Seqs FASTA </td>\n",
      "        <td> text-file </td>\n",
      "        <td> genome-wide </td>\n",
      "    </tr>\n",
      "    <tr>\n",
      "        <td> BioProspector </td>\n",
      "        <td> No </td>\n",
      "        <td> Seqs FASTA + Background </td>\n",
      "        <td> text-file </td>\n",
      "        <td>  </td>\n",
      "    </tr>\n",
      "    <tr>\n",
      "        <td> MotifSampler </td>\n",
      "        <td> No </td>\n",
      "        <td> Seqs FASTA + Background </td>\n",
      "        <td> text-file </td>\n",
      "        <td> goes with other tools to refine motif research </td>\n",
      "    </tr>\n",
      "    <tr>\n",
      "        <td> PhyloScan </td>\n",
      "        <td> Yes </td>\n",
      "        <td> Seqs MAF </td>\n",
      "        <td> text-file </td>\n",
      "        <td> only online </td>\n",
      "    </tr>\n",
      "    <tr>\n",
      "        <td> PhyloCon </td>\n",
      "        <td> Yes </td>\n",
      "        <td> Seqs FASTA </td>\n",
      "        <td> text-file </td>\n",
      "        <td> not well documented </td>\n",
      "    </tr>\n",
      "    <tr>\n",
      "        <td> PhyloGibbs </td>\n",
      "        <td> Yes </td>\n",
      "        <td> Seqs FASTA </td>\n",
      "        <td> text-file </td>\n",
      "        <td> need estimation of number of motifs, can run on multiple species in multiple regions </td>\n",
      "    </tr>\n",
      "    <tr>\n",
      "        <td> WeederH </td>\n",
      "        <td> Yes </td>\n",
      "        <td> Seqs FASTA </td>\n",
      "        <td> text-file </td>\n",
      "        <td> need estimation of number of motifs, work only on model organisms </td>\n",
      "    </tr>\n",
      "    <tr>\n",
      "        <td> iMotifs </td>\n",
      "        <td> No </td>\n",
      "        <td> Seqs FASTA </td>\n",
      "        <td> text-file </td>\n",
      "        <td> good visualization, good software, command-line tools available, NestedMICA algorithm </td>\n",
      "    </tr>\n",
      "    <tr>\n",
      "        <td> SAPF </td>\n",
      "        <td> Yes </td>\n",
      "        <td> Seqs FASTA + Tree </td>\n",
      "        <td> text-file </td>\n",
      "        <td> only up to four sequences </td>\n",
      "    </tr>\n",
      "    <tr>\n",
      "        <td> BigFoot </td>\n",
      "        <td> Yes </td>\n",
      "        <td> Seqs FASTA + Tree </td>\n",
      "        <td> text-file </td>\n",
      "        <td> better than phastCons when dealing with small TFBS, correct for alignment uncertainties </td>\n",
      "    </tr>\n",
      "    <tr>\n",
      "        <td> phastCons </td>\n",
      "        <td> Yes </td>\n",
      "        <td> Seqs FASTA + Tree </td>\n",
      "        <td> text-file </td>\n",
      "        <td> vast ampunt of tool available </td>\n",
      "    </tr>\n",
      "    \n",
      "</table>\n"
     ]
    },
    {
     "cell_type": "markdown",
     "metadata": {},
     "source": [
      "## 26 Feb 2014 ##\n",
      "\n",
      "It seems that BigFoot has good performances, easy to code and pipeline. Let's try to play with it. -> Impossible intepretation when run"
     ]
    },
    {
     "cell_type": "code",
     "collapsed": false,
     "input": [
      "%%sh\n",
      "cd Downloads/phylogibbs-1.2/\n",
      "ls"
     ],
     "language": "python",
     "metadata": {},
     "outputs": [
      {
       "output_type": "stream",
       "stream": "stdout",
       "text": [
        "Examples\n",
        "NOTES\n",
        "README\n",
        "man\n",
        "phylogibbs\n"
       ]
      }
     ],
     "prompt_number": 10
    },
    {
     "cell_type": "markdown",
     "metadata": {},
     "source": [
      "phylogibbs easy command:"
     ]
    },
    {
     "cell_type": "raw",
     "metadata": {},
     "source": [
      "phylogibbs -D 0 -L tree.newick -m motifwidth -z number of motifs -F background file -y total number of motifs -f sequence file"
     ]
    },
    {
     "cell_type": "markdown",
     "metadata": {},
     "source": [
      "* **-D** (n=0) No alignment; (n=1) Loose align; (n=2) Strict align.\n",
      "* **-L** tree file in Newick format\n",
      "* **-m** motif length\n",
      "* **-z** optional number of different motifs to search\n",
      "* **-F** background file\n",
      "* **-y** total number of motifs\n",
      "* **-f** input sequence file\n",
      "\n",
      "see `NOTES` file for more details"
     ]
    },
    {
     "cell_type": "code",
     "collapsed": false,
     "input": [
      "%%sh\n",
      "cd Downloads/phylogibbs-1.2/\n",
      "sed '26,50!d' NOTES #extract command-line options from file"
     ],
     "language": "python",
     "metadata": {},
     "outputs": [
      {
       "output_type": "stream",
       "stream": "stdout",
       "text": [
        "Commonly used command-line options:\n",
        "-c, --ncolmoves n : do n colour-change moves per cycle (-1 = autoselect n) default 0.\n",
        "-D, --dialign n : (n=0) No alignment; (n=1) Loose align; (n=2) Strict align.\n",
        "-F, --bgfile filename : Read background sequence from filename.\n",
        "-f, --inputfile filename : Read input fasta sequence from filename.\n",
        "-L, --labeltree treestring: Specifies the phylogenetic tree for the species from which\n",
        "      the input sequences derive.\n",
        "-m, --motifwidth n : Search for motifs of width m.\n",
        "-M, --motiffile filename : File with external WMs to act as \"seeds\".\n",
        "-N, --ncorrel n : Order of the Markov chain for the background model. \n",
        "      (n-site, n=-1 = 0.25 each,n=0 no correlations with neighbors, n>0 n nearest\n",
        "      neighbors.)\n",
        "-o, --outputfile filename : Write anneal snapshots to filename\n",
        "-q, --quiet : Run quietly, no screen output\n",
        "-R, --reverseprint : Print (negative) position backwards from end of sequence.\n",
        "      Useful when end of sequence corresponds to transcription start.\n",
        "-r, --norevcomp : Search for motifs only on one strand. For instance when running\n",
        "      on RNA sequences. \n",
        "-S, --ncycles n : Do n cycles of the tracking phase. Sets running time.\n",
        "-t, --trackedoutput filename : Write tracking statistics to filename\n",
        "-y, --nexpwin num : Sets total number of sites. Either fixed (when no colour-moves\n",
        "      or the expected number (maximal entropy prior).\n",
        "-z, --nexpcol num : Sets number of motifs. Upper bound when no colour-moves and\n",
        "      sets expected number otherwise (maximal entropy prior).\n",
        "\n"
       ]
      }
     ],
     "prompt_number": 28
    },
    {
     "cell_type": "markdown",
     "metadata": {},
     "source": [
      "## 27 Feb 2014 ##\n",
      "\n",
      "**Objectives** \n",
      "\n",
      "+ try phylogibbs on a sample\n",
      "+ understand output file\n",
      "+ begin to parse output file"
     ]
    },
    {
     "cell_type": "markdown",
     "metadata": {},
     "source": [
      "**What are PhyloGibbs restrictions?**\n",
      "\n",
      "**input file:** fasta format, may be aligned specified by \">>\" double tick sign, or not aligned **/!\\\\** don't forget to specify with **-D** if sequence is aligned 0 = unaligned (by default)\n",
      "\n",
      "**background file is optional** -> PhyloGibbs compute background composition from input file\n",
      "\n",
      "**tree file:** tree formatted using Newick format **/!\\\\** branch lengths are here **proximities** = probability that no mutation has taken place along branch"
     ]
    },
    {
     "cell_type": "code",
     "collapsed": false,
     "input": [
      "%cd Downloads/phylogibbs-1.2/ #Move IPython into phylogibbs directory"
     ],
     "language": "python",
     "metadata": {},
     "outputs": [
      {
       "output_type": "stream",
       "stream": "stdout",
       "text": [
        "[Errno 2] No such file or directory: 'Downloads/phylogibbs-1.2/ #Move IPython into phylogibbs directory'\n",
        "/Users/Rekyt/Downloads/phylogibbs-1.2\n"
       ]
      },
      {
       "output_type": "stream",
       "stream": "stderr",
       "text": [
        "ERROR: Line magic function `%ls` not found."
       ]
      }
     ],
     "prompt_number": 5
    },
    {
     "cell_type": "code",
     "collapsed": false,
     "input": [
      "ls"
     ],
     "language": "python",
     "metadata": {},
     "outputs": [
      {
       "output_type": "stream",
       "stream": "stdout",
       "text": [
        "\u001b[34mExamples\u001b[m\u001b[m/   \u001b[31mNOTES\u001b[m\u001b[m*      README      \u001b[34mman\u001b[m\u001b[m/        \u001b[31mphylogibbs\u001b[m\u001b[m*\r\n"
       ]
      }
     ],
     "prompt_number": 6
    },
    {
     "cell_type": "markdown",
     "metadata": {},
     "source": [
      "PhyloGibbs may be slow, but output are understandable \u2260 from Bigfoot\n",
      "MotifSuite seems to be a great toolkit to do an non phylogenetic analysis of motifs\n",
      "Explore the use of BigFoot. Seems to work.\n",
      "\n",
      "WeederH cannot work as it only works on specific species.\n",
      "\n",
      "Have a compilation error with PhyloCon\n"
     ]
    },
    {
     "cell_type": "markdown",
     "metadata": {},
     "source": [
      "To run BigFoot, we must include sequence file (FASTA) + tree (Newick format) --> we obtain a .mpd format which is the weight of each base \n",
      "\n",
      "Begin to write a BigFoot Ouputs parser"
     ]
    },
    {
     "cell_type": "markdown",
     "metadata": {},
     "source": [
      "## 28 and 29 Feb 2014 ##\n",
      "\n",
      "Objective: verify BigFoot's outputs -> What are .mpd? What are the scores? How to count motifs?\n",
      "\n",
      "Why .pred files have less weight that number of bases. Don't count \"-\", use only **first species in tree** to weight everything.\n",
      "\n",
      "**/!\\\\** match initial sequence with generated one!\n",
      "\n",
      "Wrote a class to retrieve motifs from sequences according to thresholds."
     ]
    },
    {
     "cell_type": "markdown",
     "metadata": {},
     "source": [
      "## 1 March 2014 ##\n",
      "\n",
      "have to code an entire parser with:\n",
      "\n",
      "+ input tree file\n",
      "+ input predictions file\n",
      "+ input alignment file\n",
      "+ specify output file name"
     ]
    },
    {
     "cell_type": "markdown",
     "metadata": {},
     "source": [
      "## 3 March 2014 ##\n",
      "\n",
      "Coding a \"Parser\" object to automate everything. May be I should look at Snakemake to automate every tasks"
     ]
    },
    {
     "cell_type": "markdown",
     "metadata": {},
     "source": [
      "## 4 March 2014 ##\n",
      "Stopped the idea of implementing position specific matrix, Biopython nor TAMO have the tools to work with gapped motifs.\n",
      "Implemented the alignment score cutoff to analyze the prediction file.\n",
      "\n",
      "Coding a general setup just to provide a real pipeline. File **setup.py** is totally available using command line"
     ]
    },
    {
     "cell_type": "code",
     "collapsed": false,
     "input": [
      "%cd Documents/ENS/M1/Stage/para/"
     ],
     "language": "python",
     "metadata": {},
     "outputs": [
      {
       "output_type": "stream",
       "stream": "stdout",
       "text": [
        "/Users/Rekyt/Documents/ENS/M1/Stage/para\n"
       ]
      }
     ],
     "prompt_number": 4
    },
    {
     "cell_type": "code",
     "collapsed": false,
     "input": [
      "%%sh\n",
      "python bin/bigfoot/setup.py -h"
     ],
     "language": "python",
     "metadata": {},
     "outputs": [
      {
       "output_type": "stream",
       "stream": "stdout",
       "text": [
        "usage: setup.py [-h] [-s SIZE] [-t THRE] [-a ALIGN] [-o OUT] mpd pred\n",
        "\n",
        "Setup program to parse BigFoot's outputs and find motifs. From sequence\n",
        "alignment and prediction files, it produces a file showing found motifs\n",
        "according to specific parameters. To have more information on BigFoot\n",
        "http://sourceforge.net/projects/bigfoot/\n",
        "\n",
        "positional arguments:\n",
        "  mpd                   .mpd file generated by BigFoot\n",
        "  pred                  .pred file generated by BigFoot. (Phylogenetic\n",
        "                        prediction file)\n",
        "\n",
        "optional arguments:\n",
        "  -h, --help            show this help message and exit\n",
        "  -s SIZE, --size SIZE  minimal size of the motifs you want to search for\n",
        "                        (default: 1)\n",
        "  -t THRE, --thre THRE  phylogenetic prediction threshold to be used, motifs\n",
        "                        with above phylogenetic score will be selected\n",
        "                        (default: 0.3)\n",
        "  -a ALIGN, --align ALIGN\n",
        "                        alignment score threshold to be used, only motifs with\n",
        "                        alignment score higher than this threshold will be\n",
        "                        selected (default: 0.0)\n",
        "  -o OUT, --out OUT     name and location of output file (default:\n",
        "                        results.txt)\n"
       ]
      }
     ],
     "prompt_number": 2
    },
    {
     "cell_type": "markdown",
     "metadata": {},
     "source": [
      "Commands available for BigFoot"
     ]
    },
    {
     "cell_type": "code",
     "collapsed": false,
     "input": [
      "%%sh\n",
      "java -jar BigFoot.jar -h"
     ],
     "language": "python",
     "metadata": {},
     "outputs": [
      {
       "output_type": "stream",
       "stream": "stdout",
       "text": [
        "Usage:\n",
        "\tjava -jar bigfoot.jar [options] seqfile1 [seqfile2 ...]\n",
        "\n",
        "Options:\n",
        "\t-t tree\n",
        "\t\tTree file with phylogeny that is fixed during the analysis.\n",
        "\t\tDefault: estimated from data by NJ\n",
        "\t-m=MODEL\n",
        "\t\tSubstitution model (see list below)\n",
        "\t\tDefault: Kimura3\n",
        "\t-p=burn,cycl,rate\n",
        "\t\tMCMC parameters: burn-in, cycles after burn-in, sampling rate.\n",
        "\t\tDefault: 100k,5m,1k\n",
        "\t-s=seed\n",
        "\t\tRandom seed.\n",
        "\t\tDefault: 1\n",
        "\t-ot=OUTTYPE\n",
        "\t\tOutput alignment type (one of StatAlign, Clustal, Fasta, Phylip, Nexus)\n",
        "\t\tDefault: StatAlign\n",
        "\n"
       ]
      },
      {
       "output_type": "stream",
       "stream": "stderr",
       "text": [
        "\n",
        "List of available substitution models:\n",
        "\tFelsenstein81\n",
        "\tFelsenstein84\n",
        "\tHKY85\n",
        "\tJukesCantor\n",
        "\tKimura3\n",
        "\tReversibleNucleotide\n",
        "\tTamura92\n",
        "\tTamuraNei\n"
       ]
      }
     ],
     "prompt_number": 19
    },
    {
     "cell_type": "markdown",
     "metadata": {},
     "source": [
      "Typical BigFoot command line:"
     ]
    },
    {
     "cell_type": "code",
     "collapsed": false,
     "input": [
      "java -jar BigFoot.jar -t treefile -p=1000,2000,1000 seqfile.fa"
     ],
     "language": "python",
     "metadata": {},
     "outputs": []
    },
    {
     "cell_type": "markdown",
     "metadata": {},
     "source": [
      "## 5 March 2014 ##\n",
      "\n",
      "Look at .gtf and .gff files to understand how they are made.\n",
      "Here is the structure of a .gff file:\n",
      "\n",
      "scaffold  |  program  |  type of sequence  |  start position  |  stop position  |  .  |  strand  |  phase  |  other info (name, parents)\n",
      "\n",
      "I have to program something that retrieves, using the GeneID, the coordinates and the upstream sequence while verifying it's not taking a slice of the previous gene.\n",
      "\n",
      "http://www.sequenceontology.org/gff3.shtml specification\n"
     ]
    },
    {
     "cell_type": "markdown",
     "metadata": {},
     "source": [
      "## 6 March 2014 ##\n",
      "\n",
      "Finished program sequence position extractor, still need to use blastdbcmd to extract good positions.\n",
      "\n",
      "How to use blastdbcmd? http://www.vicbioinformatics.com/documents/Quick_Start_Guide_BLAST_to_BLAST+.pdf included in BLAST+\n",
      "http://www.ncbi.nlm.nih.gov/books/NBK1763/\n",
      "http://www.ncbi.nlm.nih.gov/books/NBK1763/#CmdLineAppsManual.Obtaining_Sample_data\n",
      "http://seqanswers.com/forums/showthread.php?t=22415\n",
      "\n",
      "\n",
      "Before using blastdbcmd -> makeblastdb, generate fasta file"
     ]
    },
    {
     "cell_type": "code",
     "collapsed": false,
     "input": [
      "makeblastdb -in fastafile -parse_seqids -dbtype nucl"
     ],
     "language": "python",
     "metadata": {},
     "outputs": []
    },
    {
     "cell_type": "markdown",
     "metadata": {},
     "source": [
      "Generating whole db with many files using above command. Then, look for a specific sequence in db using blastdbcmd"
     ]
    },
    {
     "cell_type": "code",
     "collapsed": false,
     "input": [
      "blastdbcmd -db data/sexaurelia_AZ8-4_assembly_v1.fasta -entry scaffold_003 -strand plus -range 13357-13379"
     ],
     "language": "python",
     "metadata": {},
     "outputs": []
    },
    {
     "cell_type": "markdown",
     "metadata": {},
     "source": [
      "Above is example of command to extract specific sequence. Can retrieves batchs of sequences using -entry_batch option:"
     ]
    },
    {
     "cell_type": "code",
     "collapsed": false,
     "input": [
      "geneid 1-10 plus\n",
      "geneid 10-15 minus\n",
      "geneid 20-40 plus\n",
      "..."
     ],
     "language": "python",
     "metadata": {},
     "outputs": []
    },
    {
     "cell_type": "markdown",
     "metadata": {},
     "source": [
      "**Need in gff.py, from list of geneid extract [start,end,strand,geneid] -> generate above file**\n",
      "\n",
      "No I'll have a different strategy that is less computationnally intensive -> Whole process in Python using BioPython library.\n",
      "takes a list of genes ids -> generate coordinates -> extract sequences -> return sequences (maybe in a written fastafile?)"
     ]
    },
    {
     "cell_type": "markdown",
     "metadata": {},
     "source": [
      "## 7 March 2014 ##\n",
      "\n",
      "Finished program to parse GFF files and retrieve upstream sequences. It generates a fasta file of extracted sequences.\n",
      "\n",
      "Question: How to generate gene families?\n",
      "\n",
      "Answer: BLAST against various species of Paramecium. Using only CDS.\n",
      "\n",
      "Optimize the rest of the code.\n",
      "\n",
      "$$p = \\frac{1}{3} $$"
     ]
    },
    {
     "cell_type": "markdown",
     "metadata": {},
     "source": [
      "## 10 March 2014 ##\n",
      "\n",
      "Optimization of the code. Code a CDS parser from GFF and .fasta -> generate fasta + do a local BLAST again sequences +  BLAST outputs parser\n",
      "\n",
      "**/!\\\\** phase in CDS **/!\\\\** + position, GFF file extract pythonic positions whereas file is written using natural positions\n",
      "\n",
      "Wrote a CDS retriever from GFF files"
     ]
    },
    {
     "cell_type": "markdown",
     "metadata": {},
     "source": [
      "## 11 March 2014 ##\n",
      "\n",
      "Try to use BLAST from BioPython, use XML output format for automatic parsing.\n",
      "\n",
      "Things to add to gff parser -> extract single gene or list of genes, load files only once in memory, build a main\n",
      "\n",
      "Built main function for gff parser, need to understand how Mason works"
     ]
    },
    {
     "cell_type": "markdown",
     "metadata": {},
     "source": [
      "## 13 March 2014 ##"
     ]
    },
    {
     "cell_type": "markdown",
     "metadata": {},
     "source": [
      "Test how to extract families -> Extract upstream sequences -> BigFoot analyze of motifs -> Parse BigFoot's Output -> analyze results"
     ]
    },
    {
     "cell_type": "markdown",
     "metadata": {},
     "source": [
      "Compare distant directory and local one:"
     ]
    },
    {
     "cell_type": "code",
     "collapsed": false,
     "input": [
      "%%sh\n",
      "diff <(ssh mgrenie@mason.indiana.edu \"ls -R para/data \") <(ls -R para/data/)"
     ],
     "language": "python",
     "metadata": {},
     "outputs": []
    },
    {
     "cell_type": "markdown",
     "metadata": {},
     "source": [
      "To make a tree for the species: select randomly 12 genes from WGD1 with all species, extract CDSs -> multi align using MUSCLE -> concatenate -> make a tree Newick format"
     ]
    },
    {
     "cell_type": "markdown",
     "metadata": {},
     "source": [
      "## 14 March 2014 ##\n",
      "\n",
      "Problem of strand selection on upstream sequences -> we want first nucleotide on fasta file to be the first nucleotide after the gene. For minus strand -> we have to select from left to right then use the complement. For plus strand -> we need to reverse it\n",
      "\n",
      "Need to implement new GFF parser"
     ]
    },
    {
     "cell_type": "markdown",
     "metadata": {},
     "source": [
      "## 17 March 2014 ##\n",
      "\n",
      "Finished implementing the new GFF parser -> should move out to the rest.\n",
      "\n",
      "Make a tree for species.\n",
      "\n",
      "Need to merge master with new gff_parser"
     ]
    },
    {
     "cell_type": "markdown",
     "metadata": {},
     "source": [
      "## 21 March 2014 ##\n",
      "\n",
      "Retrieved 12 families from WGD1 -> aligned them using MUSCLE -> reordered them to all have the same rank\n",
      "\n",
      "Need to concatenate them using Seaview.\n",
      "\n",
      "Alignment of family **WGD1ANC01675** seems to have problems -> set it apart. It seems there are two families in it.\n",
      "\n",
      "**WGD1ANC03912** seems ok, but one gene **PBIGNG32522** on **scaffold_0367** seems to have bigger parts than other genes\n",
      "\n",
      "**WGD1ANC02984** is ok, but three genes have bigger parts than the four others.\n",
      "\n",
      "These two families may have been generated with annotation errors?\n",
      "\n",
      "To get rid of poor aligned positions -> use Gblocks?\n",
      "\n",
      "Everything is included in new SeaView version\n",
      "\n",
      "Ran Gblocks in Seaview checking the two first checkboxes: allow smaller final blocks, allow gap positions within final blocks"
     ]
    },
    {
     "cell_type": "markdown",
     "metadata": {},
     "source": [
      "## 24 March 2014 ##\n",
      "\n",
      "Ran BigFoot on data -> problem with tree format"
     ]
    },
    {
     "cell_type": "raw",
     "metadata": {},
     "source": [
      "Parse Error-\n",
      "Expected `:' at 32 near..."
     ]
    },
    {
     "cell_type": "markdown",
     "metadata": {},
     "source": [
      "The problem for BigFoot is that all nodes had bootstrap values -> need to erase them from tree generated by SeaView.\n",
      "\n",
      "Need to adapt gene names to names in the tree\n",
      "\n",
      "Tried several set of parameters burn-in,cycles,after\n",
      "\n",
      "1000,2000,1000 -> no predictions (everything = 0)\n",
      "\n",
      "1000,20000,1000 -> poor predictions (few > 0.4)\n",
      "\n",
      "10000,200000,1000 -> does not seem good...\n",
      "\n",
      "What to do to have a tree for each family -> Take a protein guided dna alignment software -> take for each family protein seqs, align them -> use this alignment for DNA -> make tree, with branch length = dS"
     ]
    },
    {
     "cell_type": "code",
     "collapsed": false,
     "input": [
      "%cd Documents/ENS/M1/Stage/para/\n",
      "ls"
     ],
     "language": "python",
     "metadata": {},
     "outputs": [
      {
       "ename": "NameError",
       "evalue": "name 'ls' is not defined",
       "output_type": "pyerr",
       "traceback": [
        "\u001b[0;31m---------------------------------------------------------------------------\u001b[0m\n\u001b[0;31mNameError\u001b[0m                                 Traceback (most recent call last)",
        "\u001b[0;32m<ipython-input-8-f441802bcfd6>\u001b[0m in \u001b[0;36m<module>\u001b[0;34m()\u001b[0m\n\u001b[1;32m      1\u001b[0m \u001b[0mget_ipython\u001b[0m\u001b[0;34m(\u001b[0m\u001b[0;34m)\u001b[0m\u001b[0;34m.\u001b[0m\u001b[0mmagic\u001b[0m\u001b[0;34m(\u001b[0m\u001b[0;34mu'cd Documents/ENS/M1/Stage/para/'\u001b[0m\u001b[0;34m)\u001b[0m\u001b[0;34m\u001b[0m\u001b[0m\n\u001b[0;32m----> 2\u001b[0;31m \u001b[0mls\u001b[0m\u001b[0;34m\u001b[0m\u001b[0m\n\u001b[0m",
        "\u001b[0;31mNameError\u001b[0m: name 'ls' is not defined"
       ]
      },
      {
       "output_type": "stream",
       "stream": "stdout",
       "text": [
        "[Errno 2] No such file or directory: 'Documents/ENS/M1/Stage/para/'\n",
        "/Users/Rekyt/Documents/ENS/M1/Stage/para\n"
       ]
      }
     ],
     "prompt_number": 8
    },
    {
     "cell_type": "raw",
     "metadata": {},
     "source": [
      "Use of TranslatorX to align DNA based on protein sequences"
     ]
    },
    {
     "cell_type": "code",
     "collapsed": false,
     "input": [
      "%%sh\n",
      "perl bin/translatorx_vLocal.pl -h"
     ],
     "language": "python",
     "metadata": {},
     "outputs": [
      {
       "output_type": "stream",
       "stream": "stderr",
       "text": [
        "Odd number of elements in hash assignment at bin/translatorx_vLocal.pl line 141.\n",
        " TranslatorX v1.1 (march 2010)\n",
        "\n",
        " Error: Option --h not recognized\n",
        "\n",
        "             Abascal F, Zardoya R, Telford MJ (2010)\n",
        "   TranslatorX server: multiple alignment of nucleotide sequences\n",
        "                guided by amino acid information.\n",
        "               Nucleic Acids Research  (in press).\n",
        "\n",
        "\n",
        " Basic usage:    perl translatorx.pl -i nt_file\n",
        " Advanced usage: perl translatorx.pl -i nt_file -a aa_file -j gc_file\n",
        "  -i: the file containing the nucleotide sequences in FASTA format (Required) \n",
        "  -o: output file (Optional). Default: \"translatorx_res\".\n",
        "  -a: file containing the amino acid sequence alignment (Optional)\n",
        "  -p: program to build the multiple alignment (Optional). Available options are:\n",
        "      M/C/F/P, standing for Muscle, Clustalw, Prank, and maFft\n",
        "      Default: Muscle\n",
        "  -c: genetic code to translate the sequences (Optional). Available options are:\n",
        "      1   Standard\n",
        "      2   Vertebrate Mitochondrial\n",
        "      3   Yeast Mitochondrial\n",
        "      4   Mold Mitochondrial; Protozoan Mitochondrial; Coelenterate Mitochondrial; Mycoplasma; Spiroplasma\n",
        "      5   Invertebrate Mitochondrial\n",
        "      6   Ciliate Nuclear; Dasycladacean Nuclear; Hexamita Nuclear\n",
        "      9   Echinoderm Mitochondrial; Flatworm Mitochondrial\n",
        "      10  Euplotid Nuclear\n",
        "      11  Bacterial and Plant Plastid\n",
        "      12  Alternative Yeast Nuclear\n",
        "      13  Ascidian Mitochondrial\n",
        "      14  Alternative Flatworm Mitochondrial\n",
        "      15  Blepharisma Macronuclear\n",
        "      16  Chlorophycean Mitochondrial\n",
        "      21  Trematode Mitochondrial\n",
        "      22  Scenedesmus obliquus Mitochondrial\n",
        "      23  Thraustochytrium Mitochondrial\n",
        "      100 Ancestral Arthropod Mitochondrial Code (AGG=K)\n",
        "      101 Hemichordate Mitochondrial\n",
        "      Default: 1 (Standard code)\n",
        "  -j: file containing alternative genetic codes for each taxon. (Optional)\n",
        "      File format: Taxon\tgenetic_code[number]\n",
        "  -g: parameters for GBlocks (Optional)\n",
        "      Example: -g \"-b2 x -b3 x -b4 x...\"\n",
        "  -t: F/T. Guess reading frame (Optional)[default F]\n",
        "\n",
        "\n"
       ]
      }
     ],
     "prompt_number": 13
    },
    {
     "cell_type": "markdown",
     "metadata": {},
     "source": [
      "## 25 March 2014 ##\n",
      "\n",
      "Tried to use TranslatorX -> have an error:"
     ]
    },
    {
     "cell_type": "code",
     "collapsed": false,
     "input": [
      "Path: bin/translatorx_vLocal.pl\n",
      "Path: bin//\n",
      ">>>>>>pauser is: muscle\n",
      "readline() on closed filehandle PH at bin/translatorx_vLocal.pl line 1167.\n",
      "muscle -in translatorx_res.aaseqs.fasta -out translatorx_res.aa_ali.fasta\n",
      "Unable to open clustaloutfile: translatorx_res.aa_ali.fasta"
     ],
     "language": "python",
     "metadata": {},
     "outputs": []
    },
    {
     "cell_type": "markdown",
     "metadata": {},
     "source": [
      "Corrected the error by installing muscle at the root in /usr/bin dir"
     ]
    },
    {
     "cell_type": "markdown",
     "metadata": {},
     "source": [
      "## 26 March 2014 ##\n",
      "\n",
      "Wrote a script to use translatorX automatically -> problems with sequences with \"NNN\" codon, may be no translation.\n",
      "Have write a script to tidy up folders -> take a lot of space.\n",
      "\n",
      "No problem with codeml just have to run `.ctl` file: `codeml codeml.ctl`\n",
      "\n",
      "Maybe I should write a control file for each WGD family? Or use one and change first lines everytime I launch it.\n",
      "\n",
      "codeml needs a tree before computing dN/dS values -> I'll compute the trees using PhyML\n",
      "\n",
      "Problem: sequences need to be to Phylip format and not Fasta\n",
      "\n",
      "* Code a Fasta header shortener\n",
      "* Convert Fasta sequences to Phylip"
     ]
    },
    {
     "cell_type": "markdown",
     "metadata": {},
     "source": [
      "## 27 March 2014 ##\n",
      "\n",
      "BioNJ seems to generate tree with Ks branch length -> available in seaview, see command-line tools\n",
      "\n",
      "BIONJ uses Phylip or NEXUS format -> need to use them\n",
      "\n",
      "Obtaining error with BigFoot... **NO** -> load `version java/1.7.0_25`\n",
      "\n",
      "Have to see what is a good threshold for BigFoot? How does BigFoot react to variation in sequences?"
     ]
    },
    {
     "cell_type": "markdown",
     "metadata": {},
     "source": [
      "## 31 March 2014 ##\n",
      "\n",
      "Automate the whole process? Look at the tree produced by PhyML. Values at the root are percentage of nucleotide substitution per site"
     ]
    },
    {
     "cell_type": "markdown",
     "metadata": {},
     "source": [
      "## 1 April 2014 ##\n",
      "\n",
      "Try to automate the whole process of finding motifs.\n",
      "Automated a certain number of things: still need to automate CDSs extraction + alignment with translatorx + cleaning"
     ]
    },
    {
     "cell_type": "markdown",
     "metadata": {},
     "source": [
      "## 2 April 2014 ##\n",
      "Mason still out of service, doing bibliographic research.\n",
      "\n",
      "`setup.job` ran perfectly. Can detect motifs.\n",
      "Have to determine what are the detection thresholds of BigFoot -> In/Del, how long should they be, which species they affect? How many sequences can we scramble?"
     ]
    },
    {
     "cell_type": "markdown",
     "metadata": {},
     "source": [
      "## 3 April 2014 ##\n",
      "\n",
      "Adapted script to be fully functionnal and retrieve motifs in all families.\n",
      "Numerous errors to correct in script. See output in bin/jobscripts/"
     ]
    },
    {
     "cell_type": "markdown",
     "metadata": {},
     "source": [
      "## 4 April 2014 ##\n",
      "\n",
      "Have to correct the script again. Included debugging outputs.\n",
      "\n",
      "TranslatorX does not seems to work -> need to install Muscle on server!"
     ]
    },
    {
     "cell_type": "markdown",
     "metadata": {},
     "source": [
      "## 7 April 2014 ##\n",
      "\n",
      "Need:\n",
      "\n",
      "+ look at distributions of length of upstream regions according to species to determine optimal minimum length to extract.\n",
      "+ integrate specific sequence extractor to make tree of retained sequences\n",
      "\n",
      "Maybe I should use a workflow tool to have outputs depending on inputs -> GNU Make or [Snakemake](https://bitbucket.org/johanneskoester/snakemake/wiki/Documentation#markdown-header-wildcards). Better reproducibility, if a step fail, the workflow is stopped. Better grammar than handmade setup.\n",
      "\n",
      "Should write the extracted lengths into a file, to grab them easily -> should add write csv\n"
     ]
    },
    {
     "cell_type": "code",
     "collapsed": false,
     "input": [],
     "language": "python",
     "metadata": {},
     "outputs": []
    }
   ],
   "metadata": {}
  }
 ]
}